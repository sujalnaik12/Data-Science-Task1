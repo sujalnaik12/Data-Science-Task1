{
 "cells": [
  {
   "cell_type": "code",
   "execution_count": 5,
   "id": "a1300805-ebe1-4674-9f7d-c0d2f6c7a9d7",
   "metadata": {},
   "outputs": [],
   "source": [
    "import pandas as pd\n",
    "from sklearn.model_selection import train_test_split\n",
    "from sklearn.preprocessing import StandardScaler, OneHotEncoder\n",
    "from sklearn.impute import SimpleImputer\n",
    "from sklearn.pipeline import Pipeline\n",
    "from sklearn.compose import ColumnTransformer"
   ]
  },
  {
   "cell_type": "code",
   "execution_count": 19,
   "id": "d509d078-a7c6-4952-9b4f-09af1a3364bc",
   "metadata": {},
   "outputs": [
    {
     "name": "stdout",
     "output_type": "stream",
     "text": [
      "   Age Gender Screen Time Type Day Type  Average Screen Time (hours)  \\\n",
      "0    5   Male      Educational  Weekday                         0.44   \n",
      "1    5   Male     Recreational  Weekday                         1.11   \n",
      "2    5   Male            Total  Weekday                         1.55   \n",
      "3    5   Male      Educational  Weekend                         0.50   \n",
      "4    5   Male     Recreational  Weekend                         1.44   \n",
      "\n",
      "   Sample Size  \n",
      "0          500  \n",
      "1          500  \n",
      "2          500  \n",
      "3          500  \n",
      "4          500  \n"
     ]
    }
   ],
   "source": [
    "df = pd.read_csv(r\"C:\\Users\\Sujal Naik\\Desktop\\Task 1\\screen_time.csv\")  \n",
    "print(df.head())  "
   ]
  },
  {
   "cell_type": "code",
   "execution_count": 21,
   "id": "d6efd9fb-0d1d-49e8-b0dd-0e30fc33eee6",
   "metadata": {},
   "outputs": [],
   "source": [
    "numerical_features = [\"Age\", \"Average Screen Time (hours)\", \"Sample Size\"]\n",
    "categorical_features = [\"Gender\", \"Screen Time Type\", \"Day Type\"]\n",
    "\n",
    "# Create transformers\n",
    "num_pipeline = Pipeline([\n",
    "    (\"imputer\", SimpleImputer(strategy=\"mean\")),  # Fill missing values with mean\n",
    "    (\"scaler\", StandardScaler())  # Scale features\n",
    "])\n",
    "\n",
    "cat_pipeline = Pipeline([\n",
    "    (\"imputer\", SimpleImputer(strategy=\"most_frequent\")),  # Fill missing categorical values\n",
    "    (\"encoder\", OneHotEncoder(handle_unknown=\"ignore\"))  # One-hot encode categorical values\n",
    "])\n",
    "\n",
    "# Combine pipelines using ColumnTransformer\n",
    "preprocessor = ColumnTransformer([\n",
    "    (\"num\", num_pipeline, numerical_features),\n",
    "    (\"cat\", cat_pipeline, categorical_features)\n",
    "])"
   ]
  },
  {
   "cell_type": "code",
   "execution_count": 22,
   "id": "9dcc5d7f-d756-48f7-bf32-aee3136763b5",
   "metadata": {},
   "outputs": [
    {
     "name": "stdout",
     "output_type": "stream",
     "text": [
      "[[-1.58113883 -1.33111777  1.58113883 ...  0.          1.\n",
      "   0.        ]\n",
      " [-1.58113883 -0.98178823  1.58113883 ...  0.          1.\n",
      "   0.        ]\n",
      " [-1.58113883 -0.75237778  1.58113883 ...  1.          1.\n",
      "   0.        ]\n",
      " ...\n",
      " [ 1.58113883 -0.41868986 -1.58113883 ...  0.          0.\n",
      "   1.        ]\n",
      " [ 1.58113883  1.44787694 -1.58113883 ...  0.          0.\n",
      "   1.        ]\n",
      " [ 1.58113883  2.58971529 -1.58113883 ...  1.          0.\n",
      "   1.        ]]\n"
     ]
    }
   ],
   "source": [
    "df_processed = preprocessor.fit_transform(df)\n",
    "print(df_processed)  # View transformed data"
   ]
  },
  {
   "cell_type": "code",
   "execution_count": 23,
   "id": "16780000-c01a-4fb8-a05e-15f3b4694bd6",
   "metadata": {},
   "outputs": [],
   "source": [
    "X_train, X_test = train_test_split(df, test_size=0.2, random_state=42)"
   ]
  },
  {
   "cell_type": "code",
   "execution_count": 24,
   "id": "92cdd9c2-5c56-465d-91f1-e72a81378ade",
   "metadata": {},
   "outputs": [],
   "source": [
    "pd.DataFrame(df_processed).to_csv(\"processed_data.csv\", index=False)"
   ]
  },
  {
   "cell_type": "code",
   "execution_count": 25,
   "id": "9bcacb43-841f-4db6-84a6-e6318929a7fb",
   "metadata": {},
   "outputs": [
    {
     "name": "stdout",
     "output_type": "stream",
     "text": [
      "Data pipeline executed successfully. Processed data saved to processed_screen_time.csv\n"
     ]
    }
   ],
   "source": [
    "def data_pipeline(input_file=\"screen_time.csv\", output_file=\"processed_screen_time.csv\"): #Setting default filenames relevant to your data\n",
    "    try:\n",
    "        # Load Data\n",
    "        df = pd.read_csv(input_file)\n",
    "\n",
    "        # Identify numerical and categorical columns for your data\n",
    "        numerical_features = [\"Age\", \"Average Screen Time (hours)\", \"Sample Size\"]\n",
    "        categorical_features = [\"Gender\", \"Screen Time Type\", \"Day Type\"]\n",
    "\n",
    "        # Create transformers\n",
    "        num_pipeline = Pipeline([\n",
    "            (\"imputer\", SimpleImputer(strategy=\"mean\")),  # Fill missing values with mean\n",
    "            (\"scaler\", StandardScaler())  # Scale features\n",
    "        ])\n",
    "\n",
    "        cat_pipeline = Pipeline([\n",
    "            (\"imputer\", SimpleImputer(strategy=\"most_frequent\")),  # Fill missing categorical values\n",
    "            (\"encoder\", OneHotEncoder(handle_unknown=\"ignore\"))  # One-hot encode categorical values\n",
    "        ])\n",
    "\n",
    "        # Combine pipelines using ColumnTransformer\n",
    "        preprocessor = ColumnTransformer([\n",
    "            (\"num\", num_pipeline, numerical_features),\n",
    "            (\"cat\", cat_pipeline, categorical_features)\n",
    "        ])\n",
    "\n",
    "        # Apply Preprocessing\n",
    "        df_processed = preprocessor.fit_transform(df)\n",
    "\n",
    "        # Save Transformed Data\n",
    "        pd.DataFrame(df_processed, columns=preprocessor.get_feature_names_out()).to_csv(output_file, index=False) #Including Header in CSV\n",
    "\n",
    "        print(f\"Data pipeline executed successfully. Processed data saved to {output_file}\")\n",
    "\n",
    "    except FileNotFoundError:\n",
    "        print(f\"Error: File not found at '{input_file}'. Please check the file path.\")\n",
    "    except Exception as e:  # Catch other potential errors\n",
    "        print(f\"An error occurred: {e}\")\n",
    "\n",
    "\n",
    "# Run the pipeline\n",
    "data_pipeline(\"C:/Users/Sujal Naik/Desktop/Task 1/screen_time.csv\", \"processed_screen_time.csv\") #Providing full file path"
   ]
  },
  {
   "cell_type": "code",
   "execution_count": null,
   "id": "99f8a10c-a1b5-4680-8bf0-25959aee403b",
   "metadata": {},
   "outputs": [],
   "source": []
  }
 ],
 "metadata": {
  "kernelspec": {
   "display_name": "Python 3 (ipykernel)",
   "language": "python",
   "name": "python3"
  },
  "language_info": {
   "codemirror_mode": {
    "name": "ipython",
    "version": 3
   },
   "file_extension": ".py",
   "mimetype": "text/x-python",
   "name": "python",
   "nbconvert_exporter": "python",
   "pygments_lexer": "ipython3",
   "version": "3.12.7"
  }
 },
 "nbformat": 4,
 "nbformat_minor": 5
}
